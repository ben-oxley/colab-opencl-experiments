{
  "nbformat": 4,
  "nbformat_minor": 0,
  "metadata": {
    "colab": {
      "provenance": [],
      "authorship_tag": "ABX9TyNrxfB+SGyBMXbpfa7MnQFX",
      "include_colab_link": true
    },
    "kernelspec": {
      "name": "python3",
      "display_name": "Python 3"
    },
    "language_info": {
      "name": "python"
    },
    "accelerator": "GPU",
    "gpuClass": "standard"
  },
  "cells": [
    {
      "cell_type": "markdown",
      "metadata": {
        "id": "view-in-github",
        "colab_type": "text"
      },
      "source": [
        "<a href=\"https://colab.research.google.com/github/ben-oxley/colab-opencl-experiments/blob/main/CUDA-Planet-Sim.ipynb\" target=\"_parent\"><img src=\"https://colab.research.google.com/assets/colab-badge.svg\" alt=\"Open In Colab\"/></a>"
      ]
    },
    {
      "cell_type": "code",
      "execution_count": 5,
      "metadata": {
        "colab": {
          "base_uri": "https://localhost:8080/"
        },
        "id": "KFEkODrMB0HQ",
        "outputId": "1046e5b6-ca95-42ab-ae72-41d0f7395c0a"
      },
      "outputs": [
        {
          "output_type": "stream",
          "name": "stdout",
          "text": [
            "Wed May  3 19:15:52 2023       \n",
            "+-----------------------------------------------------------------------------+\n",
            "| NVIDIA-SMI 525.85.12    Driver Version: 525.85.12    CUDA Version: 12.0     |\n",
            "|-------------------------------+----------------------+----------------------+\n",
            "| GPU  Name        Persistence-M| Bus-Id        Disp.A | Volatile Uncorr. ECC |\n",
            "| Fan  Temp  Perf  Pwr:Usage/Cap|         Memory-Usage | GPU-Util  Compute M. |\n",
            "|                               |                      |               MIG M. |\n",
            "|===============================+======================+======================|\n",
            "|   0  Tesla T4            Off  | 00000000:00:04.0 Off |                    0 |\n",
            "| N/A   35C    P8     9W /  70W |      0MiB / 15360MiB |      0%      Default |\n",
            "|                               |                      |                  N/A |\n",
            "+-------------------------------+----------------------+----------------------+\n",
            "                                                                               \n",
            "+-----------------------------------------------------------------------------+\n",
            "| Processes:                                                                  |\n",
            "|  GPU   GI   CI        PID   Type   Process name                  GPU Memory |\n",
            "|        ID   ID                                                   Usage      |\n",
            "|=============================================================================|\n",
            "|  No running processes found                                                 |\n",
            "+-----------------------------------------------------------------------------+\n",
            "Looking in indexes: https://pypi.org/simple, https://us-python.pkg.dev/colab-wheels/public/simple/\n",
            "Collecting git+https://github.com/andreinechaev/nvcc4jupyter.git\n",
            "  Cloning https://github.com/andreinechaev/nvcc4jupyter.git to /tmp/pip-req-build-1ecgm_80\n",
            "  Running command git clone --filter=blob:none --quiet https://github.com/andreinechaev/nvcc4jupyter.git /tmp/pip-req-build-1ecgm_80\n",
            "  Resolved https://github.com/andreinechaev/nvcc4jupyter.git to commit aac710a35f52bb78ab34d2e52517237941399eff\n",
            "  Preparing metadata (setup.py) ... \u001b[?25l\u001b[?25hdone\n",
            "Building wheels for collected packages: NVCCPlugin\n",
            "  Building wheel for NVCCPlugin (setup.py) ... \u001b[?25l\u001b[?25hdone\n",
            "  Created wheel for NVCCPlugin: filename=NVCCPlugin-0.0.2-py3-none-any.whl size=4305 sha256=58c5e979ac62469876ce8e6282c1fc274ca1150698cf56159b8bfcc6ebd9262b\n",
            "  Stored in directory: /tmp/pip-ephem-wheel-cache-3p2yi0kf/wheels/a8/b9/18/23f8ef71ceb0f63297dd1903aedd067e6243a68ea756d6feea\n",
            "Successfully built NVCCPlugin\n",
            "Installing collected packages: NVCCPlugin\n",
            "Successfully installed NVCCPlugin-0.0.2\n",
            "created output directory at /content/src\n",
            "Out bin /content/result.out\n"
          ]
        }
      ],
      "source": [
        "!nvidia-smi\n",
        "!pip install git+https://github.com/andreinechaev/nvcc4jupyter.git\n",
        "!pip install pycuda\n",
        "%load_ext nvcc_plugin"
      ]
    },
    {
      "cell_type": "code",
      "source": [
        "import pycuda.driver as cuda\n",
        "import pycuda.autoinit\n",
        "from pycuda.compiler import SourceModule\n",
        "import numpy\n",
        "num_planets = 2\n",
        "n_dims = 2\n",
        "planet_mass = numpy.random.uniform(1e5,1e10,num_planets)\n",
        "planet_locations = numpy.random.uniform(0,1e12,(num_planets,n_dims))\n",
        "planet_forces = numpy.zeros((num_planets,n_dims))\n",
        "planet_velocity = numpy.random.uniform(0,500,(num_planets,n_dims))\n",
        "#Convert to single precision for GPU support\n",
        "\n",
        "planet_locations = planet_locations.astype(numpy.float32)\n",
        "planet_mass = planet_mass.astype(numpy.float32)\n",
        "planet_forces = planet_forces.astype(numpy.float32)\n",
        "planet_velocity = planet_velocity.astype(numpy.float32)\n",
        "\n",
        "planet_forces_gpu_buffer = cuda.mem_alloc(planet_forces.nbytes)\n",
        "cuda.memcpy_htod(planet_forces_gpu_buffer, planet_forces)\n",
        "\n",
        "planet_locations_gpu_buffer = cuda.mem_alloc(planet_locations.nbytes)\n",
        "cuda.memcpy_htod(planet_locations_gpu_buffer, planet_locations)\n",
        "\n",
        "planet_mass_gpu_buffer = cuda.mem_alloc(planet_mass.nbytes)\n",
        "cuda.memcpy_htod(planet_mass_gpu_buffer, planet_mass)\n",
        "\n",
        "planet_velocity_gpu_buffer = cuda.mem_alloc(planet_velocity.nbytes)\n",
        "cuda.memcpy_htod(planet_velocity_gpu_buffer, planet_velocity)\n",
        "\n",
        "locs = numpy.copy(planet_locations)"
      ],
      "metadata": {
        "id": "Sg5_byHWC91g"
      },
      "execution_count": 228,
      "outputs": []
    },
    {
      "cell_type": "code",
      "source": [
        "for i in range(num_planets):\n",
        "  for j in range(num_planets):\n",
        "    distance = planet_locations[i].x"
      ],
      "metadata": {
        "id": "WuIYqmezJBG1"
      },
      "execution_count": null,
      "outputs": []
    },
    {
      "cell_type": "code",
      "source": [
        "mod = SourceModule(\"\"\"\n",
        "#include <stdio.h>\n",
        "  __global__ void calculate_forces(float2 *locations, float *masses, float2 *forces)\n",
        "  {\n",
        "    printf(\"I am\\\\n\");\n",
        "    for (int i = 0; i < 2; i += 1) {\n",
        "      int idx = (int)threadIdx.x;\n",
        "      if (idx != i) {\n",
        "        float distancex = locations[i].x-locations[idx].x;\n",
        "        float distancey = locations[i].y-locations[idx].y;\n",
        "        float distance2 = (distancex*distancex)+(distancey*distancey);\n",
        "        float distance = sqrt(distance2);\n",
        "        float masscomponent = 6.67408e-11*masses[idx]*masses[i];\n",
        "        forces[idx].x += distancex*masscomponent/distance;\n",
        "        forces[idx].y += distancey*masscomponent/distance;\n",
        "      }\n",
        "    }\n",
        "  }\n",
        "\n",
        "   __global__ void calculate_new_velocity(float2 *velocities, float *masses, float2 *forces)\n",
        "  {\n",
        "    float seconds = 10000000;\n",
        "    int idx = (int)threadIdx.x;\n",
        "    velocities[idx].x += seconds*forces[idx].x/masses[idx];\n",
        "    velocities[idx].y += seconds*forces[idx].y/masses[idx];\n",
        "  }\n",
        "\n",
        "   __global__ void calculate_new_locations(float2 *velocities, float2 *locations)\n",
        "  {\n",
        "    float seconds = 10000000;\n",
        "    int idx = (int)threadIdx.x;\n",
        "    locations[idx].x += seconds*velocities[idx].x*1;\n",
        "    locations[idx].y += seconds*velocities[idx].y;\n",
        "  }\n",
        "  \"\"\")\n",
        "\n"
      ],
      "metadata": {
        "id": "_Zv5nB84EKpt"
      },
      "execution_count": 195,
      "outputs": []
    },
    {
      "cell_type": "code",
      "source": [
        "# print(\"Mass:\")\n",
        "# print(planet_mass)\n",
        "# print(\"Locations:\")\n",
        "# print(planet_locations)\n",
        "# print(\"Forces:\")\n",
        "# print(planet_forces)\n",
        "# print(\"Velocities:\")\n",
        "# print(planet_velocity)\n",
        "\n",
        "func = mod.get_function(\"calculate_forces\")\n",
        "func(planet_locations_gpu_buffer,planet_mass_gpu_buffer,planet_forces_gpu_buffer, block=(2,1,1))\n",
        "func = mod.get_function(\"calculate_new_velocity\")\n",
        "func(planet_velocity_gpu_buffer,planet_mass_gpu_buffer,planet_forces_gpu_buffer, block=(2,1,1))\n",
        "func = mod.get_function(\"calculate_new_locations\")\n",
        "func(planet_velocity_gpu_buffer,planet_locations_gpu_buffer, block=(2,1,1))\n",
        "cuda.memcpy_dtoh(planet_mass, planet_mass_gpu_buffer)\n",
        "cuda.memcpy_dtoh(planet_locations, planet_locations_gpu_buffer)\n",
        "cuda.memcpy_dtoh(planet_forces, planet_forces_gpu_buffer)\n",
        "cuda.memcpy_dtoh(planet_velocity, planet_velocity_gpu_buffer)\n",
        "# print(\"Mass:\")\n",
        "# print(planet_mass)\n",
        "print(\"Locations:\")\n",
        "print(planet_locations)\n",
        "print(\"Forces:\")\n",
        "print(planet_forces)\n",
        "print(\"Velocities:\")\n",
        "print(planet_velocity)\n",
        "%matplotlib inline\n",
        "import matplotlib.pyplot as plt\n",
        "import numpy as np\n",
        "locs = numpy.append(locs,planet_locations,0)\n",
        "plt.plot(locs[:,0],locs[:,1], 'o', color='black');"
      ],
      "metadata": {
        "colab": {
          "base_uri": "https://localhost:8080/",
          "height": 614
        },
        "id": "Jc-EXjyTUvg0",
        "outputId": "dca60370-c88b-4413-bf1c-60faf13abc36"
      },
      "execution_count": 258,
      "outputs": [
        {
          "output_type": "stream",
          "name": "stdout",
          "text": [
            "Locations:\n",
            "[[-1.3444098e+16  2.5015326e+16]\n",
            " [ 2.5515407e+15 -4.7446842e+15]]\n",
            "Forces:\n",
            "[[-2.3906460e+09  3.9220063e+09]\n",
            " [ 2.3906460e+09 -3.9220063e+09]]\n",
            "Velocities:\n",
            "[[-2.4792635e+08  4.5172394e+08]\n",
            " [ 4.7032744e+07 -8.5692464e+07]]\n"
          ]
        },
        {
          "output_type": "display_data",
          "data": {
            "text/plain": [
              "<Figure size 640x480 with 1 Axes>"
            ],
            "image/png": "[encoded data removed]"
          },
          "metadata": {}
        }
      ]
    }
  ]
}