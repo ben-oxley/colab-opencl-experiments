{
  "nbformat": 4,
  "nbformat_minor": 0,
  "metadata": {
    "colab": {
      "provenance": [],
      "authorship_tag": "ABX9TyPollaa8vFWdOLfEor0bfYO",
      "include_colab_link": true
    },
    "kernelspec": {
      "name": "python3",
      "display_name": "Python 3"
    },
    "language_info": {
      "name": "python"
    },
    "accelerator": "GPU",
    "gpuClass": "standard"
  },
  "cells": [
    {
      "cell_type": "markdown",
      "metadata": {
        "id": "view-in-github",
        "colab_type": "text"
      },
      "source": [
        "<a href=\"https://colab.research.google.com/github/ben-oxley/colab-opencl-experiments/blob/main/CUDA-Planet-Sim.ipynb\" target=\"_parent\"><img src=\"https://colab.research.google.com/assets/colab-badge.svg\" alt=\"Open In Colab\"/></a>"
      ]
    },
    {
      "cell_type": "code",
      "execution_count": 1,
      "metadata": {
        "colab": {
          "base_uri": "https://localhost:8080/"
        },
        "id": "KFEkODrMB0HQ",
        "outputId": "0f877374-17ca-4ce0-864a-9939f239627b"
      },
      "outputs": [
        {
          "output_type": "stream",
          "name": "stdout",
          "text": [
            "Thu May  4 09:04:30 2023       \n",
            "+-----------------------------------------------------------------------------+\n",
            "| NVIDIA-SMI 525.85.12    Driver Version: 525.85.12    CUDA Version: 12.0     |\n",
            "|-------------------------------+----------------------+----------------------+\n",
            "| GPU  Name        Persistence-M| Bus-Id        Disp.A | Volatile Uncorr. ECC |\n",
            "| Fan  Temp  Perf  Pwr:Usage/Cap|         Memory-Usage | GPU-Util  Compute M. |\n",
            "|                               |                      |               MIG M. |\n",
            "|===============================+======================+======================|\n",
            "|   0  Tesla T4            Off  | 00000000:00:04.0 Off |                    0 |\n",
            "| N/A   43C    P8     9W /  70W |      0MiB / 15360MiB |      0%      Default |\n",
            "|                               |                      |                  N/A |\n",
            "+-------------------------------+----------------------+----------------------+\n",
            "                                                                               \n",
            "+-----------------------------------------------------------------------------+\n",
            "| Processes:                                                                  |\n",
            "|  GPU   GI   CI        PID   Type   Process name                  GPU Memory |\n",
            "|        ID   ID                                                   Usage      |\n",
            "|=============================================================================|\n",
            "|  No running processes found                                                 |\n",
            "+-----------------------------------------------------------------------------+\n",
            "Looking in indexes: https://pypi.org/simple, https://us-python.pkg.dev/colab-wheels/public/simple/\n",
            "Collecting git+https://github.com/andreinechaev/nvcc4jupyter.git\n",
            "  Cloning https://github.com/andreinechaev/nvcc4jupyter.git to /tmp/pip-req-build-eeuhlck1\n",
            "  Running command git clone --filter=blob:none --quiet https://github.com/andreinechaev/nvcc4jupyter.git /tmp/pip-req-build-eeuhlck1\n",
            "  Resolved https://github.com/andreinechaev/nvcc4jupyter.git to commit aac710a35f52bb78ab34d2e52517237941399eff\n",
            "  Preparing metadata (setup.py) ... \u001b[?25l\u001b[?25hdone\n",
            "Building wheels for collected packages: NVCCPlugin\n",
            "  Building wheel for NVCCPlugin (setup.py) ... \u001b[?25l\u001b[?25hdone\n",
            "  Created wheel for NVCCPlugin: filename=NVCCPlugin-0.0.2-py3-none-any.whl size=4305 sha256=e154017d3aa813f9e1f06ed6d128fc5d67904976e3f7e67078cd10e40b3603f3\n",
            "  Stored in directory: /tmp/pip-ephem-wheel-cache-adtw52z7/wheels/a8/b9/18/23f8ef71ceb0f63297dd1903aedd067e6243a68ea756d6feea\n",
            "Successfully built NVCCPlugin\n",
            "Installing collected packages: NVCCPlugin\n",
            "Successfully installed NVCCPlugin-0.0.2\n",
            "Looking in indexes: https://pypi.org/simple, https://us-python.pkg.dev/colab-wheels/public/simple/\n",
            "Collecting pycuda\n",
            "  Downloading pycuda-2022.2.2.tar.gz (1.7 MB)\n",
            "\u001b[2K     \u001b[90m━━━━━━━━━━━━━━━━━━━━━━━━━━━━━━━━━━━━━━━━\u001b[0m \u001b[32m1.7/1.7 MB\u001b[0m \u001b[31m18.9 MB/s\u001b[0m eta \u001b[36m0:00:00\u001b[0m\n",
            "\u001b[?25h  Installing build dependencies ... \u001b[?25l\u001b[?25hdone\n",
            "  Getting requirements to build wheel ... \u001b[?25l\u001b[?25hdone\n",
            "  Preparing metadata (pyproject.toml) ... \u001b[?25l\u001b[?25hdone\n",
            "Requirement already satisfied: appdirs>=1.4.0 in /usr/local/lib/python3.10/dist-packages (from pycuda) (1.4.4)\n",
            "Collecting mako\n",
            "  Downloading Mako-1.2.4-py3-none-any.whl (78 kB)\n",
            "\u001b[2K     \u001b[90m━━━━━━━━━━━━━━━━━━━━━━━━━━━━━━━━━━━━━━━━\u001b[0m \u001b[32m78.7/78.7 kB\u001b[0m \u001b[31m8.1 MB/s\u001b[0m eta \u001b[36m0:00:00\u001b[0m\n",
            "\u001b[?25hCollecting pytools>=2011.2\n",
            "  Downloading pytools-2022.1.14.tar.gz (74 kB)\n",
            "\u001b[2K     \u001b[90m━━━━━━━━━━━━━━━━━━━━━━━━━━━━━━━━━━━━━━━━\u001b[0m \u001b[32m74.6/74.6 kB\u001b[0m \u001b[31m9.1 MB/s\u001b[0m eta \u001b[36m0:00:00\u001b[0m\n",
            "\u001b[?25h  Preparing metadata (setup.py) ... \u001b[?25l\u001b[?25hdone\n",
            "Requirement already satisfied: platformdirs>=2.2.0 in /usr/local/lib/python3.10/dist-packages (from pytools>=2011.2->pycuda) (3.3.0)\n",
            "Requirement already satisfied: typing_extensions>=4.0 in /usr/local/lib/python3.10/dist-packages (from pytools>=2011.2->pycuda) (4.5.0)\n",
            "Requirement already satisfied: MarkupSafe>=0.9.2 in /usr/local/lib/python3.10/dist-packages (from mako->pycuda) (2.1.2)\n",
            "Building wheels for collected packages: pycuda, pytools\n",
            "  Building wheel for pycuda (pyproject.toml) ... \u001b[?25l\u001b[?25hdone\n",
            "  Created wheel for pycuda: filename=pycuda-2022.2.2-cp310-cp310-linux_x86_64.whl size=661989 sha256=de6370878586a0334026e6728e27c1ccfa0213427f53d4cd6e47fea9c4b3a017\n",
            "  Stored in directory: /root/.cache/pip/wheels/1d/7b/06/82a395a243fce00035dea9914d92bbef0013401497d849f8bc\n",
            "  Building wheel for pytools (setup.py) ... \u001b[?25l\u001b[?25hdone\n",
            "  Created wheel for pytools: filename=pytools-2022.1.14-py2.py3-none-any.whl size=69866 sha256=2c70da5acffb10f59863f3a1d989f9cc650a46afb2a593eb08cd8755214e2534\n",
            "  Stored in directory: /root/.cache/pip/wheels/19/02/16/aa2498ad7aa723a149ff7539f1918509661c0ae9d975b44b6d\n",
            "Successfully built pycuda pytools\n",
            "Installing collected packages: pytools, mako, pycuda\n",
            "Successfully installed mako-1.2.4 pycuda-2022.2.2 pytools-2022.1.14\n",
            "created output directory at /content/src\n",
            "Out bin /content/result.out\n"
          ]
        }
      ],
      "source": [
        "!nvidia-smi\n",
        "!pip install git+https://github.com/andreinechaev/nvcc4jupyter.git\n",
        "!pip install pycuda\n",
        "%load_ext nvcc_plugin"
      ]
    },
    {
      "cell_type": "code",
      "source": [
        "import pycuda.driver as cuda\n",
        "import pycuda.autoinit\n",
        "from pycuda.compiler import SourceModule\n",
        "import numpy\n",
        "num_planets = 2\n",
        "n_dims = 2\n",
        "planet_mass = numpy.random.uniform(1e5,1e10,num_planets)\n",
        "planet_locations = numpy.random.uniform(0,1e12,(num_planets,n_dims))\n",
        "planet_forces = numpy.zeros((num_planets,n_dims))\n",
        "planet_velocity = numpy.random.uniform(0,1e5,(num_planets,n_dims))\n",
        "#Convert to single precision for GPU support\n",
        "\n",
        "planet_locations = planet_locations.astype(numpy.float32)\n",
        "planet_mass = planet_mass.astype(numpy.float32)\n",
        "planet_forces = planet_forces.astype(numpy.float32)\n",
        "planet_velocity = planet_velocity.astype(numpy.float32)\n",
        "\n",
        "planet_forces_gpu_buffer = cuda.mem_alloc(planet_forces.nbytes)\n",
        "cuda.memcpy_htod(planet_forces_gpu_buffer, planet_forces)\n",
        "\n",
        "planet_locations_gpu_buffer = cuda.mem_alloc(planet_locations.nbytes)\n",
        "cuda.memcpy_htod(planet_locations_gpu_buffer, planet_locations)\n",
        "\n",
        "planet_mass_gpu_buffer = cuda.mem_alloc(planet_mass.nbytes)\n",
        "cuda.memcpy_htod(planet_mass_gpu_buffer, planet_mass)\n",
        "\n",
        "planet_velocity_gpu_buffer = cuda.mem_alloc(planet_velocity.nbytes)\n",
        "cuda.memcpy_htod(planet_velocity_gpu_buffer, planet_velocity)\n",
        "\n",
        "locs = numpy.copy(planet_locations)"
      ],
      "metadata": {
        "id": "Sg5_byHWC91g"
      },
      "execution_count": 32,
      "outputs": []
    },
    {
      "cell_type": "code",
      "source": [
        "mod = SourceModule(\"\"\"\n",
        "#include <stdio.h>\n",
        "  __global__ void calculate_forces(float2 *locations, float *masses, float2 *forces)\n",
        "  {\n",
        "    for (int i = 0; i < 2; i += 1) {\n",
        "      int idx = (int)threadIdx.x;\n",
        "      if (idx != i) {\n",
        "        float distancex = locations[i].x-locations[idx].x;\n",
        "        float distancey = locations[i].y-locations[idx].y;\n",
        "        float distance2 = (distancex*distancex)+(distancey*distancey);\n",
        "        float distance = sqrt(distance2);\n",
        "        float masscomponent = 6.67408e-11*masses[idx]*masses[i];\n",
        "        forces[idx].x += distancex*masscomponent/distance;\n",
        "        forces[idx].y += distancey*masscomponent/distance;\n",
        "      }\n",
        "    }\n",
        "  }\n",
        "\n",
        "   __global__ void calculate_new_velocity(float2 *velocities, float *masses, float2 *forces)\n",
        "  {\n",
        "    float seconds = 100000;\n",
        "    int idx = (int)threadIdx.x;\n",
        "    velocities[idx].x += seconds*forces[idx].x/masses[idx];\n",
        "    velocities[idx].y += seconds*forces[idx].y/masses[idx];\n",
        "  }\n",
        "\n",
        "   __global__ void calculate_new_locations(float2 *velocities, float2 *locations)\n",
        "  {\n",
        "    float seconds = 100000;\n",
        "    int idx = (int)threadIdx.x;\n",
        "    locations[idx].x += seconds*velocities[idx].x;\n",
        "    locations[idx].y += seconds*velocities[idx].y;\n",
        "  }\n",
        "\n",
        "   __global__ void to_canvas(float2 *locations, float *canvas)\n",
        "  {\n",
        "    int gid = (int)threadIdx.x;\n",
        "    int x = (int)locations[gid].x;\n",
        "    int y = (int)(locations[gid].y*1000);\n",
        "    canvas[x+y] +=1;\n",
        "  }\n",
        "  \n",
        "  \"\"\")\n",
        "\n"
      ],
      "metadata": {
        "id": "_Zv5nB84EKpt"
      },
      "execution_count": 19,
      "outputs": []
    },
    {
      "cell_type": "code",
      "source": [
        "# print(\"Mass:\")\n",
        "# print(planet_mass)\n",
        "# print(\"Locations:\")\n",
        "# print(planet_locations)\n",
        "# print(\"Forces:\")\n",
        "# print(planet_forces)\n",
        "# print(\"Velocities:\")\n",
        "# print(planet_velocity)\n",
        "\n",
        "func = mod.get_function(\"calculate_forces\")\n",
        "func(planet_locations_gpu_buffer,planet_mass_gpu_buffer,planet_forces_gpu_buffer, block=(num_planets,1,1))\n",
        "func = mod.get_function(\"calculate_new_velocity\")\n",
        "func(planet_velocity_gpu_buffer,planet_mass_gpu_buffer,planet_forces_gpu_buffer, block=(num_planets,1,1))\n",
        "func = mod.get_function(\"calculate_new_locations\")\n",
        "func(planet_velocity_gpu_buffer,planet_locations_gpu_buffer, block=(num_planets,1,1))\n",
        "cuda.memcpy_dtoh(planet_mass, planet_mass_gpu_buffer)\n",
        "cuda.memcpy_dtoh(planet_locations, planet_locations_gpu_buffer)\n",
        "cuda.memcpy_dtoh(planet_forces, planet_forces_gpu_buffer)\n",
        "cuda.memcpy_dtoh(planet_velocity, planet_velocity_gpu_buffer)\n",
        "# print(\"Mass:\")\n",
        "# print(planet_mass)\n",
        "print(\"Locations:\")\n",
        "print(planet_locations)\n",
        "print(\"Forces:\")\n",
        "print(planet_forces)\n",
        "print(\"Velocities:\")\n",
        "print(planet_velocity)\n",
        "%matplotlib inline\n",
        "import matplotlib.pyplot as plt\n",
        "import numpy as np\n",
        "locs = numpy.append(locs,planet_locations,0)\n",
        "plt.plot(locs[:,0],locs[:,1], 'o', color='black');"
      ],
      "metadata": {
        "colab": {
          "base_uri": "https://localhost:8080/",
          "height": 619
        },
        "id": "Jc-EXjyTUvg0",
        "outputId": "c937e575-f4bd-48c9-c36f-908ad242e49b"
      },
      "execution_count": 48,
      "outputs": [
        {
          "output_type": "stream",
          "name": "stdout",
          "text": [
            "Locations:\n",
            "[[ 4.8784091e+11  2.9605832e+11]\n",
            " [-2.3695347e+11  5.8536506e+11]]\n",
            "Forces:\n",
            "[[ 2.258786e+08 -2.948784e+08]\n",
            " [-2.258786e+08  2.948784e+08]]\n",
            "Velocities:\n",
            "[[ 412267.56 -144007.86]\n",
            " [-879745.06  550333.7 ]]\n"
          ]
        },
        {
          "output_type": "display_data",
          "data": {
            "text/plain": [
              "<Figure size 640x480 with 1 Axes>"
            ],
            "image/png": "[encoded data removed]"
          },
          "metadata": {}
        }
      ]
    },
    {
      "cell_type": "code",
      "source": [
        "from PIL import Image\n",
        "from IPython.display import display\n",
        "canvas = numpy.zeros((1000,1000))\n",
        "canvas = canvas.astype(numpy.float32)\n",
        "canvas_gpu_buffer = cuda.mem_alloc(canvas.nbytes)\n",
        "cuda.memcpy_htod(canvas_gpu_buffer,canvas)\n",
        "func = mod.get_function(\"to_canvas\")\n",
        "func(planet_locations_gpu_buffer,canvas_gpu_buffer, block=(num_planets,1,1))\n",
        "cuda.memcpy_dtoh(canvas, canvas_gpu_buffer)\n",
        "print(canvas)\n",
        "max = canvas.max()\n",
        "print(max)\n",
        "img = Image.fromarray(np.uint8(canvas/max * (255)) , 'L')\n",
        "img.show()\n",
        "display(img)"
      ],
      "metadata": {
        "id": "XyR6BbmnrLOx",
        "outputId": "5a0ee803-9c63-4727-fc7c-c863242d6855",
        "colab": {
          "base_uri": "https://localhost:8080/",
          "height": 235
        }
      },
      "execution_count": 21,
      "outputs": [
        {
          "output_type": "error",
          "ename": "LogicError",
          "evalue": "ignored",
          "traceback": [
            "\u001b[0;31m---------------------------------------------------------------------------\u001b[0m",
            "\u001b[0;31mLogicError\u001b[0m                                Traceback (most recent call last)",
            "\u001b[0;32m<ipython-input-21-0234cdd53ce3>\u001b[0m in \u001b[0;36m<cell line: 5>\u001b[0;34m()\u001b[0m\n\u001b[1;32m      3\u001b[0m \u001b[0mcanvas\u001b[0m \u001b[0;34m=\u001b[0m \u001b[0mnumpy\u001b[0m\u001b[0;34m.\u001b[0m\u001b[0mzeros\u001b[0m\u001b[0;34m(\u001b[0m\u001b[0;34m(\u001b[0m\u001b[0;36m1000\u001b[0m\u001b[0;34m,\u001b[0m\u001b[0;36m1000\u001b[0m\u001b[0;34m)\u001b[0m\u001b[0;34m)\u001b[0m\u001b[0;34m\u001b[0m\u001b[0;34m\u001b[0m\u001b[0m\n\u001b[1;32m      4\u001b[0m \u001b[0mcanvas\u001b[0m \u001b[0;34m=\u001b[0m \u001b[0mcanvas\u001b[0m\u001b[0;34m.\u001b[0m\u001b[0mastype\u001b[0m\u001b[0;34m(\u001b[0m\u001b[0mnumpy\u001b[0m\u001b[0;34m.\u001b[0m\u001b[0mfloat32\u001b[0m\u001b[0;34m)\u001b[0m\u001b[0;34m\u001b[0m\u001b[0;34m\u001b[0m\u001b[0m\n\u001b[0;32m----> 5\u001b[0;31m \u001b[0mcanvas_gpu_buffer\u001b[0m \u001b[0;34m=\u001b[0m \u001b[0mcuda\u001b[0m\u001b[0;34m.\u001b[0m\u001b[0mmem_alloc\u001b[0m\u001b[0;34m(\u001b[0m\u001b[0mcanvas\u001b[0m\u001b[0;34m.\u001b[0m\u001b[0mnbytes\u001b[0m\u001b[0;34m)\u001b[0m\u001b[0;34m\u001b[0m\u001b[0;34m\u001b[0m\u001b[0m\n\u001b[0m\u001b[1;32m      6\u001b[0m \u001b[0mcuda\u001b[0m\u001b[0;34m.\u001b[0m\u001b[0mmemcpy_htod\u001b[0m\u001b[0;34m(\u001b[0m\u001b[0mcanvas_gpu_buffer\u001b[0m\u001b[0;34m,\u001b[0m\u001b[0mcanvas\u001b[0m\u001b[0;34m)\u001b[0m\u001b[0;34m\u001b[0m\u001b[0;34m\u001b[0m\u001b[0m\n\u001b[1;32m      7\u001b[0m \u001b[0mfunc\u001b[0m \u001b[0;34m=\u001b[0m \u001b[0mmod\u001b[0m\u001b[0;34m.\u001b[0m\u001b[0mget_function\u001b[0m\u001b[0;34m(\u001b[0m\u001b[0;34m\"to_canvas\"\u001b[0m\u001b[0;34m)\u001b[0m\u001b[0;34m\u001b[0m\u001b[0;34m\u001b[0m\u001b[0m\n",
            "\u001b[0;31mLogicError\u001b[0m: cuMemAlloc failed: an illegal memory access was encountered"
          ]
        }
      ]
    }
  ]
}